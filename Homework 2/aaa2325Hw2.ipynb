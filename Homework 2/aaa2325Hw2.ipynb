{
 "cells": [
  {
   "cell_type": "code",
   "execution_count": 132,
   "metadata": {},
   "outputs": [],
   "source": [
    "import numpy as np\n",
    "import seaborn as sb\n",
    "import matplotlib.pyplot as plt\n",
    "import matplotlib.patches as mpatches"
   ]
  },
  {
   "cell_type": "code",
   "execution_count": 133,
   "metadata": {},
   "outputs": [],
   "source": [
    "# Read in data for y_train and calculate the prior\n",
    "\n",
    "y_train = np.genfromtxt('y_train.csv')\n",
    "yPi = np.mean(y_train)\n",
    "yN1 = 0\n",
    "indicesY1 = []\n",
    "indicesY0 = []\n",
    "\n",
    "for i in range(0, len(y_train)):\n",
    "    if y_train[i] == 1:\n",
    "        yN1 += 1\n",
    "        indicesY1.append(i)\n",
    "    else:\n",
    "        indicesY0.append(i)\n",
    "        \n",
    "yN0 = len(y_train) - yN1\n"
   ]
  },
  {
   "cell_type": "code",
   "execution_count": 134,
   "metadata": {},
   "outputs": [
    {
     "name": "stdout",
     "output_type": "stream",
     "text": [
      "(2732, 54)\n"
     ]
    }
   ],
   "source": [
    "# Separating the Bernoulli and pareto data\n",
    "x_train = np.genfromtxt('x_train.csv', delimiter=',')\n",
    "bernX = x_train[:, 0:54]\n",
    "parX = x_train[:, 54:57]\n",
    "bernX_1 = bernX[indicesY1]\n",
    "bernX_0 = bernX[indicesY0]\n",
    "parX_1 = parX[indicesY1]\n",
    "parX_0 = parX[indicesY0]\n",
    "\n",
    "print(np.shape(bernX_0))\n"
   ]
  },
  {
   "cell_type": "code",
   "execution_count": 135,
   "metadata": {},
   "outputs": [
    {
     "name": "stdout",
     "output_type": "stream",
     "text": [
      "[3.53603604e-01 3.41779279e-01 6.13175676e-01 2.13963964e-02\n",
      " 6.23310811e-01 3.76126126e-01 4.19481982e-01 3.44031532e-01\n",
      " 3.07995495e-01 4.58333333e-01 3.13626126e-01 6.29504505e-01\n",
      " 2.87162162e-01 1.27815315e-01 1.60472973e-01 5.45045045e-01\n",
      " 3.83445946e-01 3.81193694e-01 8.86261261e-01 2.10022523e-01\n",
      " 8.06306306e-01 5.29279279e-02 3.34459459e-01 3.76689189e-01\n",
      " 2.75900901e-02 1.46396396e-02 3.94144144e-03 1.68918919e-02\n",
      " 6.75675676e-03 9.57207207e-03 1.68918919e-03 1.12612613e-03\n",
      " 3.43468468e-02 5.63063063e-03 2.53378378e-02 6.25000000e-02\n",
      " 5.57432432e-02 1.80180180e-02 3.32207207e-02 1.12049550e-01\n",
      " 5.63063063e-04 1.12612613e-02 4.78603604e-02 2.59009009e-02\n",
      " 2.69707207e-01 3.82882883e-02 1.01351351e-02 9.00900901e-03\n",
      " 1.51463964e-01 6.53153153e-01 7.20720721e-02 8.33333333e-01\n",
      " 6.14864865e-01 2.86599099e-01]\n",
      "[0.14860908 0.09919473 0.27708638 0.00292826 0.22254758 0.11530015\n",
      " 0.01573939 0.07320644 0.07942899 0.16983895 0.05197657 0.42569546\n",
      " 0.11749634 0.04538799 0.01793558 0.09114202 0.09553441 0.12481698\n",
      " 0.58162518 0.01683748 0.34187408 0.00805271 0.02745242 0.01976574\n",
      " 0.37371889 0.2818448  0.27745242 0.15592972 0.12920937 0.1614202\n",
      " 0.10358712 0.07320644 0.12371889 0.07393851 0.15775988 0.1749634\n",
      " 0.26207906 0.01830161 0.11456808 0.08931186 0.05270864 0.11566618\n",
      " 0.10395315 0.10029283 0.29758419 0.16178624 0.01610542 0.06771596\n",
      " 0.18594436 0.55124451 0.14275256 0.26903367 0.10468521 0.08272328]\n"
     ]
    }
   ],
   "source": [
    "# Calculating the bernoulli paramters\n",
    "bernTheta1 = np.zeros(54)\n",
    "bernTheta0 = np.zeros(54)\n",
    "\n",
    "for c in range(0, len(bernX_1.T)):\n",
    "    bernTheta1[c] = np.mean(bernX_1.T[c])\n",
    "\n",
    "for c in range(0, len(bernX_0.T)):\n",
    "    bernTheta0[c] = np.mean(bernX_0.T[c])\n",
    "\n",
    "print(bernTheta1)\n",
    "print(bernTheta0)\n",
    "\n"
   ]
  },
  {
   "cell_type": "code",
   "execution_count": 136,
   "metadata": {},
   "outputs": [
    {
     "name": "stdout",
     "output_type": "stream",
     "text": [
      "0.26903367496339675\n"
     ]
    }
   ],
   "source": [
    "print(bernTheta0[51])"
   ]
  },
  {
   "cell_type": "code",
   "execution_count": 137,
   "metadata": {},
   "outputs": [
    {
     "name": "stdout",
     "output_type": "stream",
     "text": [
      "[0.73311718 0.27128743 0.18592499]\n",
      "[1.51973529 0.46178096 0.25072408]\n"
     ]
    }
   ],
   "source": [
    "# Calculate the pareto parameters \n",
    "parTheta1 = np.zeros(3)\n",
    "parTheta0 = np.zeros(3)\n",
    "\n",
    "for c in range(0, len(parX_1.T)):\n",
    "    parTheta1[c] = yN1/(np.sum(np.log(parX_1.T[c])))\n",
    "\n",
    "for c in range(0, len(parX_0.T)):\n",
    "    parTheta0[c] = yN0/(np.sum(np.log(parX_0.T[c])))\n",
    "    \n",
    "print(parTheta1)\n",
    "print(parTheta0)"
   ]
  },
  {
   "cell_type": "code",
   "execution_count": 138,
   "metadata": {},
   "outputs": [],
   "source": [
    "# Load data from testing set\n",
    "y_test = np.genfromtxt('y_test.csv')\n",
    "x_test = np.genfromtxt('X_test.csv', delimiter=',')\n",
    "\n"
   ]
  },
  {
   "cell_type": "code",
   "execution_count": 139,
   "metadata": {},
   "outputs": [],
   "source": [
    "# Takes the data point, the thetas for the bernoulli and calculates the class conditional probability\n",
    "def classConditional(data, bernTheta, parTheta):\n",
    "    bernData = data[0:54]\n",
    "    parData = data[54:57]\n",
    "    bernProd = 1\n",
    "    parProd = 1\n",
    "    for i in range(0, len(bernData)):\n",
    "        bernProd *= np.power(bernTheta[i], bernData[i]) * np.power((1-bernTheta[i]), (1-bernData[i]))\n",
    "    for i in range(0, len(parData)):\n",
    "        parProd *= parTheta[i]* np.power(parData[i], -(parTheta[i] + 1))\n",
    "    \n",
    "    return bernProd * parProd\n",
    "        "
   ]
  },
  {
   "cell_type": "code",
   "execution_count": 140,
   "metadata": {},
   "outputs": [],
   "source": [
    "def predictY(testData,bernTheta0, bernTheta1, parTheta0, parTheta1, yPi):\n",
    "    predictions = []\n",
    "    zero = 0\n",
    "    one = 0\n",
    "    for i in range (0, len(testData)):\n",
    "        zero = (1- yPi) * classConditional(testData[i], bernTheta0, parTheta0)\n",
    "        one = (yPi) * classConditional(testData[i], bernTheta1, parTheta1)\n",
    "        if(one > zero):\n",
    "            predictions.append(1)\n",
    "        else:\n",
    "            predictions.append(0)\n",
    "    return predictions"
   ]
  },
  {
   "cell_type": "code",
   "execution_count": 141,
   "metadata": {},
   "outputs": [
    {
     "name": "stdout",
     "output_type": "stream",
     "text": [
      "[1, 0, 1, 1, 1, 0, 1, 1, 1, 1, 0, 1, 1, 1, 1, 1, 1, 1, 1, 1, 1, 1, 1, 1, 1, 1, 1, 1, 0, 1, 1, 1, 1, 1, 0, 1, 1, 0, 0, 0, 0, 0, 0, 0, 0, 0, 0, 0, 0, 0, 0, 0, 0, 1, 0, 0, 0, 0, 0, 0, 0, 0, 0, 0, 0, 0, 0, 0, 0, 0, 0, 0, 0, 0, 0, 0, 0, 0, 0, 0, 0, 0, 0, 0, 0, 0, 0, 1, 0, 0, 0, 0, 0]\n"
     ]
    }
   ],
   "source": [
    "predictions = predictY(x_test, bernTheta0, bernTheta1, parTheta0, parTheta1, yPi)\n",
    "print(predictions)"
   ]
  },
  {
   "cell_type": "code",
   "execution_count": 142,
   "metadata": {},
   "outputs": [],
   "source": [
    "def confusion_matrix(predictions, actual):\n",
    "    correctOnes = 0\n",
    "    correctZeros = 0\n",
    "    incorrectOnes = 0\n",
    "    incorrectZeros = 0\n",
    "    for i in range (0, len(predictions)):\n",
    "        if(predictions[i] == actual[i]):\n",
    "            if(predictions[i] == 1):\n",
    "                correctOnes += 1\n",
    "            else:\n",
    "                correctZeros += 1\n",
    "        else:\n",
    "            if(predictions[i] == 1):\n",
    "                incorrectOnes += 1\n",
    "            else:\n",
    "                incorrectZeros += 1\n",
    "        \n",
    "    return (correctZeros, incorrectOnes, incorrectZeros, correctOnes, (correctZeros + correctOnes)/93 * 100)  "
   ]
  },
  {
   "cell_type": "code",
   "execution_count": null,
   "metadata": {},
   "outputs": [],
   "source": []
  },
  {
   "cell_type": "code",
   "execution_count": 143,
   "metadata": {},
   "outputs": [
    {
     "name": "stdout",
     "output_type": "stream",
     "text": [
      "(54, 2, 5, 32, 92.47311827956989)\n"
     ]
    }
   ],
   "source": [
    "print(confusion_matrix(predictions, y_test))\n"
   ]
  },
  {
   "cell_type": "code",
   "execution_count": 144,
   "metadata": {},
   "outputs": [
    {
     "data": {
      "image/png": "[encoded data removed]",
      "text/plain": [
       "<matplotlib.figure.Figure at 0x2a1913906a0>"
      ]
     },
     "metadata": {},
     "output_type": "display_data"
    }
   ],
   "source": [
    "fig = plt.figure(figsize=(15, 4))\n",
    "\n",
    "\n",
    "markerline, stemlines, baseline =plt.stem(np.arange(1,55), bernTheta0)\n",
    "markerline2, stemlines2, baseline2 = plt.stem(np.arange(1,55), bernTheta1)\n",
    "\n",
    "plt.setp(stemlines2, color = 'BLACK', linewidth=1, linestyle='-')\n",
    "plt.setp(stemlines, color = 'BLACK', linewidth=1, linestyle='-')\n",
    "\n",
    "plt.setp (markerline, color = 'r')\n",
    "\n",
    "plt.setp (markerline2, color = 'g')\n",
    "plt.xlabel(\"Parameter Number\")\n",
    "plt.ylabel(\"Bernoulli Parameter Value\")\n",
    "\n",
    "red_patch = mpatches.Patch(color='red', label=' Class 0')\n",
    "green_patch = mpatches.Patch(color='green', label=' Class 1')\n",
    "plt.legend(handles=[red_patch, green_patch])\n",
    "\n",
    "\n",
    "plt.show()\n"
   ]
  },
  {
   "cell_type": "code",
   "execution_count": 145,
   "metadata": {},
   "outputs": [],
   "source": [
    "# implementing KNN prediction algorithm and how ties are decided (randomly)\n",
    "\n",
    "import random\n",
    "\n",
    "def voteChoose(selections):\n",
    "    numberOnes = selections.count(1)\n",
    "    numberZeros = selections.count(0)\n",
    "    \n",
    "    if(numberOnes == numberZeros):\n",
    "        return float(random.randint(0,1))\n",
    "    elif(numberOnes > numberZeros):\n",
    "        return 1.0\n",
    "    else:\n",
    "        return 0.0\n",
    "\n",
    "        \n",
    "\n",
    "\n",
    "def KNNpredict(k,x_train, y_train, x_testVal):\n",
    "    distanceArray = []\n",
    "    selections = []\n",
    "    \n",
    "    for i in range (0, len(x_train)):\n",
    "        absdist = np.sum(np.absolute(x_testVal - x_train[i, :]))\n",
    "        distanceArray.append((absdist, i))\n",
    "    \n",
    "    distanceArray.sort()\n",
    "    \n",
    "    for d in range(0,k):\n",
    "        i = distanceArray[d][1]\n",
    "        selections.append(y_train[i])\n",
    "        \n",
    "    return voteChoose(selections)\n",
    "\n",
    "         \n",
    "        \n",
    "        \n",
    "    "
   ]
  },
  {
   "cell_type": "code",
   "execution_count": 146,
   "metadata": {},
   "outputs": [
    {
     "name": "stdout",
     "output_type": "stream",
     "text": [
      "[[1. 1. 1. ... 0. 0. 0.]\n",
      " [1. 0. 1. ... 0. 0. 0.]\n",
      " [1. 1. 1. ... 0. 0. 0.]\n",
      " ...\n",
      " [1. 1. 0. ... 0. 0. 0.]\n",
      " [1. 1. 0. ... 0. 0. 0.]\n",
      " [1. 1. 0. ... 0. 0. 0.]]\n"
     ]
    }
   ],
   "source": [
    "knnpredictions = np.zeros((20, len(x_test)) )\n",
    "\n",
    "for k in range(1, 21):\n",
    "    for i in range(0, len(x_test)):\n",
    "        knnpredictions[k-1][i] = KNNpredict(k, x_train, y_train, x_test[i, :])\n",
    "        \n",
    "print(knnpredictions)"
   ]
  },
  {
   "cell_type": "code",
   "execution_count": 147,
   "metadata": {},
   "outputs": [
    {
     "name": "stdout",
     "output_type": "stream",
     "text": [
      "[89.24731182795699, 83.87096774193549, 86.02150537634408, 88.17204301075269, 88.17204301075269, 89.24731182795699, 86.02150537634408, 88.17204301075269, 90.32258064516128, 86.02150537634408, 84.94623655913979, 88.17204301075269, 88.17204301075269, 87.09677419354838, 86.02150537634408, 86.02150537634408, 84.94623655913979, 86.02150537634408, 86.02150537634408, 86.02150537634408]\n"
     ]
    }
   ],
   "source": [
    "# Calculating the prediction accuracies using the confusion matrix format used before\n",
    "knnpredacc = []\n",
    "for i in range (0, 20):\n",
    "    knnpredacc.append(confusion_matrix(knnpredictions[i], y_test)[4])\n",
    "\n",
    "print(knnpredacc)\n",
    "\n",
    "\n",
    "    "
   ]
  },
  {
   "cell_type": "code",
   "execution_count": 148,
   "metadata": {},
   "outputs": [
    {
     "name": "stdout",
     "output_type": "stream",
     "text": [
      "[ 1  2  3  4  5  6  7  8  9 10 11 12 13 14 15 16 17 18 19 20]\n"
     ]
    },
    {
     "data": {
      "image/png": "[encoded data removed]",
      "text/plain": [
       "<matplotlib.figure.Figure at 0x2a193c50710>"
      ]
     },
     "metadata": {},
     "output_type": "display_data"
    }
   ],
   "source": [
    "from matplotlib.ticker import MaxNLocator\n",
    "\n",
    "newfig = plt.figure(figsize=(14, 4)).gca()\n",
    "\n",
    "kxaxis = np.arange(1,21)\n",
    "print(kxaxis)\n",
    "plt.plot(kxaxis, knnpredacc)\n",
    "plt.xlabel(\"K values\")\n",
    "plt.ylabel(\"Prediction Accuracy (%)\")\n",
    "newfig.xaxis.set_major_locator(MaxNLocator(integer=True))\n",
    "\n",
    "plt.show()"
   ]
  },
  {
   "cell_type": "code",
   "execution_count": 149,
   "metadata": {},
   "outputs": [
    {
     "name": "stdout",
     "output_type": "stream",
     "text": [
      "[[1.000e+00 1.000e+00 1.000e+00 ... 1.010e+02 1.028e+03 1.000e+00]\n",
      " [1.000e+00 0.000e+00 1.000e+00 ... 4.850e+02 2.259e+03 1.000e+00]\n",
      " [0.000e+00 0.000e+00 0.000e+00 ... 4.000e+01 1.910e+02 1.000e+00]\n",
      " ...\n",
      " [0.000e+00 0.000e+00 0.000e+00 ... 4.000e+00 1.400e+01 1.000e+00]\n",
      " [1.000e+00 0.000e+00 1.000e+00 ... 6.000e+00 1.180e+02 1.000e+00]\n",
      " [1.000e+00 0.000e+00 0.000e+00 ... 5.000e+00 7.800e+01 1.000e+00]]\n",
      "[ 1.  1.  1.  1.  1.  1.  1.  1.  1.  1.  1.  1.  1.  1.  1.  1.  1.  1.\n",
      "  1.  1.  1.  1.  1.  1.  1.  1.  1.  1.  1.  1.  1.  1.  1.  1.  1.  1.\n",
      "  1. -1. -1. -1. -1. -1. -1. -1. -1. -1. -1. -1. -1. -1. -1. -1. -1. -1.\n",
      " -1. -1. -1. -1. -1. -1. -1. -1. -1. -1. -1. -1. -1. -1. -1. -1. -1. -1.\n",
      " -1. -1. -1. -1. -1. -1. -1. -1. -1. -1. -1. -1. -1. -1. -1. -1. -1. -1.\n",
      " -1. -1. -1.]\n"
     ]
    }
   ],
   "source": [
    "# Change all 0's to -1's and extend with ones\n",
    "\n",
    "y_train[y_train == 0] = -1\n",
    "y_test[y_test == 0] = -1\n",
    "x_train = np.hstack((x_train, np.ones((x_train.shape[0], 1))))\n",
    "print(x_train)\n",
    "print(y_test)\n"
   ]
  },
  {
   "cell_type": "code",
   "execution_count": 150,
   "metadata": {},
   "outputs": [],
   "source": [
    "import scipy as sp\n",
    "\n",
    "def sigmoid1(yi, xi, w):\n",
    "    denominator = 1.0 + np.exp(-(yi* np.dot(xi, w)))\n",
    "    return 1/denominator\n",
    "    \n",
    "\n",
    "def sigmoid2(yi, xi, w):\n",
    "    \n",
    "    result = sp.special.expit(yi * np.dot(xi, w))\n",
    "    return result"
   ]
  },
  {
   "cell_type": "code",
   "execution_count": 151,
   "metadata": {},
   "outputs": [],
   "source": [
    "def gradient(x_train, y_train, w):\n",
    "    result = 0.0\n",
    "    for i in range(0, len(x_train)):\n",
    "        result += (1 - sigmoid2(y_train[i], x_train[i], w)) *y_train[i] * x_train[i]\n",
    "    return result\n",
    "\n",
    "def gradVec(x_train, y_train, w):\n",
    "    \n",
    "    v1 = 1 - sp.special.expit(np.multiply(y_train, np.dot(x_train, w)))\n",
    "    v2 = np.multiply(y_train, v1)\n",
    "    v3 = x_train * v2[:, np.newaxis] \n",
    "    result = np.sum(v3, axis = 0)\n",
    "    \n",
    "    return result\n",
    "    "
   ]
  },
  {
   "cell_type": "code",
   "execution_count": 152,
   "metadata": {},
   "outputs": [],
   "source": [
    "winit = np.zeros(58)\n",
    "wtest = gradVec(x_train, y_train, winit)\n"
   ]
  },
  {
   "cell_type": "code",
   "execution_count": 153,
   "metadata": {},
   "outputs": [
    {
     "name": "stdout",
     "output_type": "stream",
     "text": [
      "[ 1.110000e+02  1.680000e+02  1.660000e+02  1.500000e+01  2.495000e+02\n",
      "  1.765000e+02  3.510000e+02  2.055000e+02  1.650000e+02  1.750000e+02\n",
      "  2.075000e+02 -2.250000e+01  9.450000e+01  5.150000e+01  1.180000e+02\n",
      "  3.595000e+02  2.100000e+02  1.680000e+02 -7.500000e+00  1.635000e+02\n",
      "  2.490000e+02  3.600000e+01  2.595000e+02  3.075000e+02 -4.860000e+02\n",
      " -3.720000e+02 -3.755000e+02 -1.980000e+02 -1.705000e+02 -2.120000e+02\n",
      " -1.400000e+02 -9.900000e+01 -1.385000e+02 -9.600000e+01 -1.930000e+02\n",
      " -1.835000e+02 -3.085000e+02 -9.000000e+00 -1.270000e+02 -2.250000e+01\n",
      " -7.150000e+01 -1.480000e+02 -9.950000e+01 -1.140000e+02 -1.670000e+02\n",
      " -1.870000e+02 -1.300000e+01 -8.450000e+01 -1.195000e+02 -1.730000e+02\n",
      " -1.310000e+02  3.725000e+02  4.030000e+02  1.415000e+02  5.221000e+03\n",
      "  6.802200e+04  1.971905e+05 -4.780000e+02]\n",
      "[ 1.110000e+02  1.680000e+02  1.660000e+02  1.500000e+01  2.495000e+02\n",
      "  1.765000e+02  3.510000e+02  2.055000e+02  1.650000e+02  1.750000e+02\n",
      "  2.075000e+02 -2.250000e+01  9.450000e+01  5.150000e+01  1.180000e+02\n",
      "  3.595000e+02  2.100000e+02  1.680000e+02 -7.500000e+00  1.635000e+02\n",
      "  2.490000e+02  3.600000e+01  2.595000e+02  3.075000e+02 -4.860000e+02\n",
      " -3.720000e+02 -3.755000e+02 -1.980000e+02 -1.705000e+02 -2.120000e+02\n",
      " -1.400000e+02 -9.900000e+01 -1.385000e+02 -9.600000e+01 -1.930000e+02\n",
      " -1.835000e+02 -3.085000e+02 -9.000000e+00 -1.270000e+02 -2.250000e+01\n",
      " -7.150000e+01 -1.480000e+02 -9.950000e+01 -1.140000e+02 -1.670000e+02\n",
      " -1.870000e+02 -1.300000e+01 -8.450000e+01 -1.195000e+02 -1.730000e+02\n",
      " -1.310000e+02  3.725000e+02  4.030000e+02  1.415000e+02  5.221000e+03\n",
      "  6.802200e+04  1.971905e+05 -4.780000e+02]\n"
     ]
    }
   ],
   "source": [
    "print(wtest)\n",
    "print(gradient(x_train, y_train, winit))"
   ]
  },
  {
   "cell_type": "code",
   "execution_count": 154,
   "metadata": {},
   "outputs": [],
   "source": [
    "def etaCalc(t):\n",
    "    return (1.0/((10**5) * np.sqrt(t + 1)))\n",
    "    \n",
    "def gradientDescent(x_train, y_train, t_iter):\n",
    "    wArray = np.zeros((t_iter, len(x_train[1, :])))\n",
    "    \n",
    "    w = np.zeros(len(x_train[1, :]))\n",
    "\n",
    "    for t in range(0, t_iter):\n",
    "        \n",
    "        w = w + etaCalc(t) * gradVec(x_train, y_train, w)\n",
    "        wArray[t] = w\n",
    "    return wArray\n",
    "        "
   ]
  },
  {
   "cell_type": "code",
   "execution_count": 155,
   "metadata": {},
   "outputs": [
    {
     "name": "stdout",
     "output_type": "stream",
     "text": [
      "(10000, 58)\n",
      "[-0.02100981  0.05544477 -0.0440878   0.01258965  0.12936796  0.10012095\n",
      "  0.39588213  0.17669201  0.07872249  0.02347887  0.18010908 -0.37643501\n",
      "  0.00426607  0.01530664  0.11036896  0.33332658  0.1410094   0.07854995\n",
      " -0.39366511  0.15304542  0.00434718  0.0346125   0.27504762  0.34578268\n",
      " -0.86217298 -0.63307911 -0.57772213 -0.33185718 -0.26339961 -0.34473932\n",
      " -0.2226102  -0.14575375 -0.27728183 -0.14436327 -0.34042256 -0.32637773\n",
      " -0.60632646 -0.02464776 -0.23743116 -0.08004356 -0.12706282 -0.25728123\n",
      " -0.19788523 -0.21185376 -0.37756659 -0.38546405 -0.02920632 -0.16707962\n",
      " -0.29016982 -0.5999388  -0.28131203  0.23104144  0.36154461  0.03356877\n",
      " -0.10437003  0.07013563 -0.01614281 -1.18579337]\n"
     ]
    }
   ],
   "source": [
    "wArray = gradientDescent(x_train, y_train, 10000)\n",
    "\n",
    "print(np.shape(wArray))\n",
    "print(wArray[-1])\n"
   ]
  },
  {
   "cell_type": "code",
   "execution_count": 156,
   "metadata": {},
   "outputs": [
    {
     "name": "stdout",
     "output_type": "stream",
     "text": [
      "[ 4.46935526e+02  4.03358190e+02  7.77183857e+02  2.77829290e+01\n",
      "  7.99517078e+02  4.84269649e+02  5.09062192e+02  4.56048860e+02\n",
      "  3.95275605e+02  5.66049497e+02  4.00937803e+02  7.72358802e+02\n",
      "  3.76057191e+02  1.73054507e+02  1.96698976e+02  6.70040534e+02\n",
      "  4.77527297e+02  4.71737384e+02  1.06053928e+03  2.51361677e+02\n",
      "  9.80932834e+02  8.27365461e+01  4.30029261e+02  4.98165595e+02\n",
      "  2.03949648e+01  1.36407527e+01 -3.37382680e+01  2.04279561e+01\n",
      "  6.68690292e+00  9.62880167e+00 -6.38349878e+00  1.35782858e+00\n",
      "  4.00071424e+01  5.79607102e+00  2.16915171e+01  8.80099147e+01\n",
      "  6.58867531e+01  2.63967479e+01  4.22665906e+01  1.42935838e+02\n",
      " -3.68279835e+00  5.42368959e+00  4.44096949e+01  2.26947323e+01\n",
      "  3.17008818e+02  5.63835667e+00  1.71358559e+01  9.13357635e+00\n",
      "  2.21667663e+02  8.39102199e+02  1.03959641e+02  1.02170679e+03\n",
      "  7.92139716e+02  3.53719883e+02  5.47435902e+03  6.00767263e+04\n",
      "  5.93703690e+05  1.09917993e+03]\n",
      "[ 4.46935526e+02  4.03358190e+02  7.77183857e+02  2.77829290e+01\n",
      "  7.99517078e+02  4.84269649e+02  5.09062192e+02  4.56048860e+02\n",
      "  3.95275605e+02  5.66049497e+02  4.00937803e+02  7.72358802e+02\n",
      "  3.76057191e+02  1.73054507e+02  1.96698976e+02  6.70040534e+02\n",
      "  4.77527297e+02  4.71737384e+02  1.06053928e+03  2.51361677e+02\n",
      "  9.80932834e+02  8.27365461e+01  4.30029261e+02  4.98165595e+02\n",
      "  2.03949648e+01  1.36407527e+01 -3.37382680e+01  2.04279561e+01\n",
      "  6.68690292e+00  9.62880167e+00 -6.38349878e+00  1.35782858e+00\n",
      "  4.00071424e+01  5.79607102e+00  2.16915171e+01  8.80099147e+01\n",
      "  6.58867531e+01  2.63967479e+01  4.22665906e+01  1.42935838e+02\n",
      " -3.68279835e+00  5.42368959e+00  4.44096949e+01  2.26947323e+01\n",
      "  3.17008818e+02  5.63835667e+00  1.71358559e+01  9.13357635e+00\n",
      "  2.21667663e+02  8.39102199e+02  1.03959641e+02  1.02170679e+03\n",
      "  7.92139716e+02  3.53719883e+02  5.47435902e+03  6.00767263e+04\n",
      "  5.93703690e+05  1.09917993e+03]\n"
     ]
    }
   ],
   "source": [
    "winit = wArray[-1]\n",
    "wtest = gradVec(x_train, y_train, winit)\n",
    "wtest2 = gradient(x_train, y_train, winit)\n",
    "print(wtest)\n",
    "print(wtest2)"
   ]
  },
  {
   "cell_type": "code",
   "execution_count": 52,
   "metadata": {},
   "outputs": [],
   "source": [
    "from decimal import Decimal"
   ]
  },
  {
   "cell_type": "code",
   "execution_count": 76,
   "metadata": {},
   "outputs": [],
   "source": [
    "def objectiveFast(x_train, y_train, w):\n",
    "    \n",
    "    v1 = np.dot(x_train, w) * y_train[:, np.newaxis]\n",
    "    v2 = np.sum(np.log(sp.special.expit(v1)))\n",
    "    \n",
    "    \n",
    "    return v2\n",
    "    \n",
    "\n",
    "\n",
    "\n",
    "def objective(x_train, y_train, w):\n",
    "    #result = 0.0\n",
    "    \n",
    "    for i in range (0, len(x_train)):\n",
    "        v = y_train[i]* np.dot(x_train[i], w)\n",
    "        if (v > 709):\n",
    "         #   v = 709\n",
    "        result += (v - np.log(1 + np.exp(v))))\n",
    "    \n",
    "    #v = sp.special.expit(np.multiply(y_train, np.dot(x_train, w)))\n",
    "    #result = np.sum(np.log(v + 1e-10) )\n",
    "    \n",
    "    return result\n",
    "\n",
    "        "
   ]
  },
  {
   "cell_type": "code",
   "execution_count": 77,
   "metadata": {},
   "outputs": [],
   "source": [
    "objectiveVals = np.zeros(10000)\n",
    "\n",
    "for i in range(0, 10000):\n",
    "    objectiveVals[i] = objective(x_train, y_train, wArray[i])\n",
    "    \n"
   ]
  },
  {
   "cell_type": "code",
   "execution_count": 78,
   "metadata": {},
   "outputs": [
    {
     "name": "stdout",
     "output_type": "stream",
     "text": [
      "[-198844.22466264 -179742.20393304 -247624.02911884 ...   -2381.82856804\n",
      "   -7967.40180008  -15625.14630896]\n"
     ]
    },
    {
     "data": {
      "image/png": "[encoded data removed]",
      "text/plain": [
       "<matplotlib.figure.Figure at 0x23d93b096a0>"
      ]
     },
     "metadata": {},
     "output_type": "display_data"
    }
   ],
   "source": [
    "print(objectiveVals)\n",
    "tArray = np.arange(0, 10000)\n",
    "fig = plt.figure(figsize=(15,6))\n",
    "\n",
    "plt.plot(tArray, objectiveVals)\n",
    "plt.xlabel(\"Iterations t\")\n",
    "plt.ylabel(\"Objective training function\")\n",
    "\n",
    "plt.show()\n",
    "\n",
    "\n",
    "\n"
   ]
  },
  {
   "cell_type": "code",
   "execution_count": null,
   "metadata": {},
   "outputs": [],
   "source": [
    "#calculating eta for newton method \n",
    "\n",
    "\n",
    "    "
   ]
  },
  {
   "cell_type": "code",
   "execution_count": null,
   "metadata": {},
   "outputs": [],
   "source": []
  },
  {
   "cell_type": "code",
   "execution_count": null,
   "metadata": {},
   "outputs": [],
   "source": [
    "def hessian(x_train, y_train, w):\n",
    "    \n",
    "    v1 = sp.special.expit(np.multiply(y_train, np.dot(x_train, w)))\n",
    "    v2 = v1*(1 - v1)\n",
    "    \n",
    "    result = 0\n",
    "    \n",
    "    for i in range(0, len(v2)):\n",
    "        result += v2[i] * np.outer(x_train[i], x_train[i])\n",
    "    \n",
    "    \n",
    "    return -result"
   ]
  },
  {
   "cell_type": "code",
   "execution_count": null,
   "metadata": {},
   "outputs": [],
   "source": [
    "winit = np.zeros(58)\n",
    "wtest = hessian(x_train, y_train, winit)\n",
    "print(wtest)"
   ]
  },
  {
   "cell_type": "code",
   "execution_count": null,
   "metadata": {},
   "outputs": [],
   "source": [
    "def gradientDescentNewt(x_train, y_train, t_iter):\n",
    "    wArray = np.zeros((t_iter, len(x_train[1, :])))\n",
    "    \n",
    "    w = np.zeros(len(x_train[1, :]))\n",
    "\n",
    "    for t in range(1, t_iter + 1):\n",
    "        \n",
    "        w = w - (1/(np.sqrt(t+1))) * np.dot(np.linalg.inv(hessian(x_train, y_train, w)), gradVec(x_train, y_train, w))\n",
    "        wArray[t-1] = w\n",
    "    return wArray"
   ]
  },
  {
   "cell_type": "code",
   "execution_count": null,
   "metadata": {},
   "outputs": [],
   "source": [
    "newtonWArray = gradientDescentNewt(x_train, y_train, 100)"
   ]
  },
  {
   "cell_type": "code",
   "execution_count": null,
   "metadata": {},
   "outputs": [],
   "source": [
    "print(newtonWArray[-1])"
   ]
  },
  {
   "cell_type": "code",
   "execution_count": null,
   "metadata": {},
   "outputs": [],
   "source": [
    "hesObjectiveVals = np.zeros(100)\n",
    "\n",
    "for i in range(0, 100):\n",
    "    hesObjectiveVals[i] = objective(x_train, y_train, newtonWArray[i])"
   ]
  },
  {
   "cell_type": "code",
   "execution_count": null,
   "metadata": {},
   "outputs": [],
   "source": [
    "tArray = np.arange(1, 101)\n",
    "fig = plt.figure(figsize=(15,6))\n",
    "\n",
    "plt.plot(tArray, hesObjectiveVals)\n",
    "\n",
    "plt.xlabel(\"Iterations t\")\n",
    "plt.ylabel(\"Objective training function\")\n",
    "\n",
    "\n",
    "\n",
    "plt.show()\n"
   ]
  },
  {
   "cell_type": "code",
   "execution_count": null,
   "metadata": {},
   "outputs": [],
   "source": [
    "print(hesObjectiveVals[-1])"
   ]
  },
  {
   "cell_type": "code",
   "execution_count": null,
   "metadata": {},
   "outputs": [],
   "source": [
    "def logisticPred(xi, w):\n",
    "    if(sp.special.expit(np.dot(xi, w)) >= 0.5):\n",
    "        return 1\n",
    "    else:\n",
    "        return -1\n",
    "    \n"
   ]
  },
  {
   "cell_type": "code",
   "execution_count": null,
   "metadata": {},
   "outputs": [],
   "source": [
    "x_test = np.hstack((x_test, np.ones((x_test.shape[0], 1))))"
   ]
  },
  {
   "cell_type": "code",
   "execution_count": null,
   "metadata": {},
   "outputs": [],
   "source": [
    "logPredictions = np.zeros(len(y_test))\n",
    "\n",
    "for i in range(0, len(y_test)):\n",
    "    logPredictions[i] = logisticPred(x_test[i], newtonWArray[-1])\n",
    "    \n",
    "print(logPredictions)\n"
   ]
  },
  {
   "cell_type": "code",
   "execution_count": null,
   "metadata": {},
   "outputs": [],
   "source": [
    "print(confusion_matrix(logPredictions, y_test)[4])\n",
    "print(y_test)\n",
    "                            "
   ]
  },
  {
   "cell_type": "code",
   "execution_count": null,
   "metadata": {},
   "outputs": [],
   "source": [
    "oldLogPredictions = np.zeros(len(y_test))\n",
    "\n",
    "for i in range(0, len(y_test)):\n",
    "    oldLogPredictions[i] = logisticPred(x_test[i], wArray[-1])\n",
    "    \n",
    "print(oldLogPredictions)\n"
   ]
  },
  {
   "cell_type": "code",
   "execution_count": null,
   "metadata": {},
   "outputs": [],
   "source": [
    "print(confusion_matrix(oldLogPredictions, y_test)[4])\n"
   ]
  }
 ],
 "metadata": {
  "kernelspec": {
   "display_name": "Python 3",
   "language": "python",
   "name": "python3"
  },
  "language_info": {
   "codemirror_mode": {
    "name": "ipython",
    "version": 3
   },
   "file_extension": ".py",
   "mimetype": "text/x-python",
   "name": "python",
   "nbconvert_exporter": "python",
   "pygments_lexer": "ipython3",
   "version": "3.6.4"
  }
 },
 "nbformat": 4,
 "nbformat_minor": 2
}
