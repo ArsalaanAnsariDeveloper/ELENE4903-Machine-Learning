{
 "cells": [
  {
   "cell_type": "code",
   "execution_count": 59,
   "metadata": {},
   "outputs": [],
   "source": [
    "import numpy as np\n",
    "import matplotlib.pyplot as plt\n",
    "import pandas as pd\n",
    "from scipy.sparse.linalg import eigs\n"
   ]
  },
  {
   "cell_type": "markdown",
   "metadata": {},
   "source": [
    "1. Markov Chain"
   ]
  },
  {
   "cell_type": "code",
   "execution_count": 60,
   "metadata": {},
   "outputs": [
    {
     "name": "stdout",
     "output_type": "stream",
     "text": [
      "AbileneChristian\n"
     ]
    }
   ],
   "source": [
    "\n",
    "# Load team names\n",
    "teamNames = np.loadtxt(\"TeamNames.txt\" , dtype='str')\n",
    "print(teamNames[0])"
   ]
  },
  {
   "cell_type": "code",
   "execution_count": 61,
   "metadata": {},
   "outputs": [
    {
     "name": "stdout",
     "output_type": "stream",
     "text": [
      "[[0. 0. 0. ... 0. 0. 0.]\n",
      " [0. 0. 0. ... 0. 0. 0.]\n",
      " [0. 0. 0. ... 0. 0. 0.]\n",
      " ...\n",
      " [0. 0. 0. ... 0. 0. 0.]\n",
      " [0. 0. 0. ... 0. 0. 0.]\n",
      " [0. 0. 0. ... 0. 0. 0.]]\n"
     ]
    }
   ],
   "source": [
    "# Initialize M matrix with zeros\n",
    "M = np.zeros((763,763))\n",
    "print(M)"
   ]
  },
  {
   "cell_type": "code",
   "execution_count": 62,
   "metadata": {},
   "outputs": [],
   "source": [
    "# Initialize random Walk matrix \n",
    "\n",
    "gameData = np.genfromtxt('CFB2017_scores.csv', delimiter=\",\")"
   ]
  },
  {
   "cell_type": "code",
   "execution_count": 63,
   "metadata": {},
   "outputs": [],
   "source": [
    "# Update M based on the data from file\n",
    "\n",
    "for row in gameData:\n",
    "    teamAin = int(row[0])\n",
    "    aPts = int(row[1])\n",
    "    teamBin = int(row[2])\n",
    "    bPts = int(row[3])\n",
    "    \n",
    "    i = teamAin - 1\n",
    "    j = teamBin - 1\n",
    "    \n",
    "    weight = aPts/(aPts + bPts)\n",
    "    win = int(aPts > bPts)\n",
    "    \n",
    "    M[i,i] += win + weight\n",
    "    M[j,j] += (1 - win) + (1 - weight)\n",
    "    M[j,i] += win + weight\n",
    "    M[i,j] +=  (1 - win) + (1 - weight)\n",
    "    \n",
    "\n",
    "    \n",
    "M =  M / (np.sum(M, axis = 1).reshape(-1,1))"
   ]
  },
  {
   "cell_type": "code",
   "execution_count": 64,
   "metadata": {},
   "outputs": [
    {
     "name": "stdout",
     "output_type": "stream",
     "text": [
      "0.9999999999999999\n"
     ]
    }
   ],
   "source": [
    "print(np.sum(M[2]))"
   ]
  },
  {
   "cell_type": "code",
   "execution_count": 65,
   "metadata": {},
   "outputs": [],
   "source": [
    "# eigenval calcs\n",
    "\n",
    "w_inf= eigs(M.T,1)[1].flatten()\n",
    "w_inf = w_inf/(np.sum(w_inf))\n"
   ]
  },
  {
   "cell_type": "code",
   "execution_count": 68,
   "metadata": {},
   "outputs": [
    {
     "name": "stdout",
     "output_type": "stream",
     "text": [
      "                          10                            100    \\\n",
      "0          (MountUnion, 0.0184)          (MountUnion, 0.0657)   \n",
      "1   (MaryHardin-Baylor, 0.0130)             (Alabama, 0.0230)   \n",
      "2         (StFrancisIN, 0.0110)             (Georgia, 0.0192)   \n",
      "3          (UW-Oshkosh, 0.0100)          (UW-Oshkosh, 0.0179)   \n",
      "4       (TAMU-Commerce, 0.0093)           (OhioState, 0.0149)   \n",
      "5         (BrockportSt, 0.0092)             (Clemson, 0.0147)   \n",
      "6       (NorthDakotaSt, 0.0090)            (Oklahoma, 0.0142)   \n",
      "7             (Alabama, 0.0090)           (Wisconsin, 0.0138)   \n",
      "8         (Morningside, 0.0088)      (CentralFlorida, 0.0131)   \n",
      "9             (Georgia, 0.0084)   (MaryHardin-Baylor, 0.0126)   \n",
      "10       (JamesMadison, 0.0081)       (TAMU-Commerce, 0.0125)   \n",
      "11     (DelawareValley, 0.0079)              (Auburn, 0.0120)   \n",
      "12           (Wartburg, 0.0076)         (StFrancisIN, 0.0111)   \n",
      "13          (IndianaPA, 0.0072)           (PennState, 0.0107)   \n",
      "14            (Clemson, 0.0071)         (BrockportSt, 0.0095)   \n",
      "15     (MinnSt-Mankato, 0.0070)           (NotreDame, 0.0082)   \n",
      "16     (CentralFlorida, 0.0068)      (DelawareValley, 0.0080)   \n",
      "17          (OhioState, 0.0067)       (NorthDakotaSt, 0.0080)   \n",
      "18          (Wisconsin, 0.0066)         (FrostburgSt, 0.0079)   \n",
      "19          (Reinhardt, 0.0066)                 (TCU, 0.0078)   \n",
      "20           (StThomas, 0.0060)      (MinnSt-Mankato, 0.0076)   \n",
      "21           (Oklahoma, 0.0059)  (CaseWesternReserve, 0.0072)   \n",
      "22        (FrostburgSt, 0.0055)         (JohnCarroll, 0.0069)   \n",
      "23            (Ashland, 0.0054)             (MiamiFL, 0.0065)   \n",
      "24         (Assumption, 0.0053)             (Harding, 0.0065)   \n",
      "\n",
      "                       1000                       10000  \n",
      "0          (Alabama, 0.0423)          (Alabama, 0.0511)  \n",
      "1          (Georgia, 0.0349)          (Georgia, 0.0422)  \n",
      "2       (MountUnion, 0.0340)        (OhioState, 0.0336)  \n",
      "3        (OhioState, 0.0277)          (Clemson, 0.0325)  \n",
      "4          (Clemson, 0.0269)         (Oklahoma, 0.0317)  \n",
      "5         (Oklahoma, 0.0262)        (Wisconsin, 0.0311)  \n",
      "6        (Wisconsin, 0.0257)   (CentralFlorida, 0.0288)  \n",
      "7   (CentralFlorida, 0.0238)           (Auburn, 0.0265)  \n",
      "8           (Auburn, 0.0219)        (PennState, 0.0240)  \n",
      "9        (PennState, 0.0199)        (NotreDame, 0.0180)  \n",
      "10       (NotreDame, 0.0149)              (TCU, 0.0172)  \n",
      "11             (TCU, 0.0142)          (MiamiFL, 0.0144)  \n",
      "12         (MiamiFL, 0.0119)       (MichiganSt, 0.0142)  \n",
      "13      (MichiganSt, 0.0118)       (OklahomaSt, 0.0136)  \n",
      "14      (OklahomaSt, 0.0113)             (Iowa, 0.0129)  \n",
      "15            (Iowa, 0.0107)     (Northwestern, 0.0125)  \n",
      "16    (Northwestern, 0.0103)           (IowaSt, 0.0124)  \n",
      "17          (IowaSt, 0.0102)              (LSU, 0.0116)  \n",
      "18             (LSU, 0.0096)      (SouthernCal, 0.0114)  \n",
      "19   (NorthDakotaSt, 0.0095)       (Washington, 0.0112)  \n",
      "20     (SouthernCal, 0.0095)    (NorthDakotaSt, 0.0109)  \n",
      "21      (Washington, 0.0093)         (Stanford, 0.0105)  \n",
      "22      (UW-Oshkosh, 0.0092)    (MississippiSt, 0.0103)  \n",
      "23        (Stanford, 0.0087)     (VirginiaTech, 0.0101)  \n",
      "24   (MississippiSt, 0.0085)  (NorthCarolinaSt, 0.0096)  \n"
     ]
    }
   ],
   "source": [
    "# update w vector\n",
    "w = np.repeat(1/763, 763)\n",
    "tRank = set([10, 100, 1000, 10000])\n",
    "tCol = []\n",
    "w_inf_t = np.zeros(10000)\n",
    "\n",
    "results = pd.DataFrame(index=range(25), columns=[10,100,1000,10000])\n",
    "\n",
    "for t in range(1,10001):\n",
    "    w = np.dot(w,M)\n",
    "    w_inf_t[t-1] = np.sum(abs(w - w_inf)) \n",
    "    if(t in tRank):\n",
    "        \n",
    "        if(t in tRank):\n",
    "            word_idx = np.argsort(w)[::-1][:25]\n",
    "            results[t] = list(zip(teamNames[word_idx], [format(x, '.4f') for x in w[word_idx]])) \n",
    "            teamNames[np.argsort(w)[::-1][:25]]\n",
    "print(results)\n",
    "results.to_html('res.html')"
   ]
  },
  {
   "cell_type": "code",
   "execution_count": 36,
   "metadata": {},
   "outputs": [
    {
     "name": "stdout",
     "output_type": "stream",
     "text": [
      "[1.60172052 1.57250142 1.55195865 ... 1.35314014 1.35314014 1.35314014]\n"
     ]
    }
   ],
   "source": [
    "print(w_inf_t)"
   ]
  },
  {
   "cell_type": "code",
   "execution_count": 37,
   "metadata": {},
   "outputs": [
    {
     "name": "stdout",
     "output_type": "stream",
     "text": [
      "['MountUnion' 'Alabama' 'Georgia' 'UW-Oshkosh' 'OhioState' 'Clemson'\n",
      " 'Oklahoma' 'Wisconsin' 'CentralFlorida' 'MaryHardin-Baylor'\n",
      " 'TAMU-Commerce' 'Auburn' 'StFrancisIN' 'PennState' 'BrockportSt'\n",
      " 'NotreDame' 'DelawareValley' 'NorthDakotaSt' 'FrostburgSt' 'TCU'\n",
      " 'MinnSt-Mankato' 'CaseWesternReserve' 'JohnCarroll' 'MiamiFL' 'Harding']\n"
     ]
    }
   ],
   "source": [
    "# Create ranking data frame \n",
    "tArray = tCol[0]\n",
    "print(tCol[1])\n",
    "\n",
    "for t in range(1, len(tCol)):\n",
    "    #tArray = np.vstack((tArray, tCol[t]))\n",
    "    if (t+1) in t_ranks:\n",
    "            word_idx = np.argsort(w)[::-1][:25]\n",
    "                self.results[\"t_%d\"%(t+1)] = list(zip(\n",
    "                        self.team_names[word_idx],\n",
    "                        [format(x, '.3f') for x in w[word_idx]]))\n",
    "tArray = tArray.T\n",
    "\n"
   ]
  },
  {
   "cell_type": "code",
   "execution_count": 38,
   "metadata": {},
   "outputs": [
    {
     "name": "stdout",
     "output_type": "stream",
     "text": [
      "               t = 10             t = 100        t = 1000        t = 10000\n",
      "1          MountUnion          MountUnion         Alabama          Alabama\n",
      "2   MaryHardin-Baylor             Alabama         Georgia          Georgia\n",
      "3         StFrancisIN             Georgia      MountUnion        OhioState\n",
      "4          UW-Oshkosh          UW-Oshkosh       OhioState          Clemson\n",
      "5       TAMU-Commerce           OhioState         Clemson         Oklahoma\n",
      "6         BrockportSt             Clemson        Oklahoma        Wisconsin\n",
      "7       NorthDakotaSt            Oklahoma       Wisconsin   CentralFlorida\n",
      "8             Alabama           Wisconsin  CentralFlorida           Auburn\n",
      "9         Morningside      CentralFlorida          Auburn        PennState\n",
      "10            Georgia   MaryHardin-Baylor       PennState        NotreDame\n",
      "11       JamesMadison       TAMU-Commerce       NotreDame              TCU\n",
      "12     DelawareValley              Auburn             TCU          MiamiFL\n",
      "13           Wartburg         StFrancisIN         MiamiFL       MichiganSt\n",
      "14          IndianaPA           PennState      MichiganSt       OklahomaSt\n",
      "15            Clemson         BrockportSt      OklahomaSt             Iowa\n",
      "16     MinnSt-Mankato           NotreDame            Iowa     Northwestern\n",
      "17     CentralFlorida      DelawareValley    Northwestern           IowaSt\n",
      "18          OhioState       NorthDakotaSt          IowaSt              LSU\n",
      "19          Wisconsin         FrostburgSt             LSU      SouthernCal\n",
      "20          Reinhardt                 TCU   NorthDakotaSt       Washington\n",
      "21           StThomas      MinnSt-Mankato     SouthernCal    NorthDakotaSt\n",
      "22           Oklahoma  CaseWesternReserve      Washington         Stanford\n",
      "23        FrostburgSt         JohnCarroll      UW-Oshkosh    MississippiSt\n",
      "24            Ashland             MiamiFL        Stanford     VirginiaTech\n",
      "25         Assumption             Harding   MississippiSt  NorthCarolinaSt\n"
     ]
    }
   ],
   "source": [
    "# print rankings data frame\n",
    "rankingsDf = pd.DataFrame(tArray, columns=[\"t = 10\", \"t = 100\", \" t = 1000\", \"t = 10000\"])\n",
    "rankingsDf.index = np.arange(1, 26)\n",
    "rankingsDf.to_html('rankingsTable.html')\n",
    "print(rankingsDf)"
   ]
  },
  {
   "cell_type": "code",
   "execution_count": null,
   "metadata": {},
   "outputs": [],
   "source": [
    "\n"
   ]
  },
  {
   "cell_type": "code",
   "execution_count": null,
   "metadata": {},
   "outputs": [],
   "source": [
    "import matplotlib as mpl\n",
    "mpl.style.use('seaborn')\n",
    "plt.figure()\n",
    "plt.plot(range(1,10001), w_inf_t)\n",
    "plt.xlabel(\"Iterations t\")\n",
    "plt.ylabel(\"|w_t - w_inf|\")\n",
    "plt.title(\"|w_t - w_inf| vs t\")\n",
    "plt.savefig('differential.png')\n"
   ]
  },
  {
   "cell_type": "markdown",
   "metadata": {},
   "source": [
    "Problem 2 NMF"
   ]
  },
  {
   "cell_type": "code",
   "execution_count": null,
   "metadata": {},
   "outputs": [],
   "source": [
    "#Initialize X\n",
    "\n",
    "X = np.zeros((3012, 8447))\n"
   ]
  },
  {
   "cell_type": "code",
   "execution_count": null,
   "metadata": {},
   "outputs": [],
   "source": [
    "\n",
    "raw_nyt_data = np.loadtxt('nyt_data.txt', dtype='str', delimiter=\"\\n\")\n",
    "\n"
   ]
  },
  {
   "cell_type": "code",
   "execution_count": null,
   "metadata": {},
   "outputs": [],
   "source": [
    "for i in range(0, len(raw_nyt_data)):\n",
    "    temp = raw_nyt_data[i].split(',')\n",
    "    for w in temp:\n",
    "        temp2  = w.split(':')\n",
    "        index = int(temp2[0])\n",
    "        count = int(temp2[1])\n",
    "        X[index-1, i] = count\n"
   ]
  },
  {
   "cell_type": "code",
   "execution_count": null,
   "metadata": {},
   "outputs": [],
   "source": [
    "print(X)"
   ]
  },
  {
   "cell_type": "code",
   "execution_count": null,
   "metadata": {},
   "outputs": [],
   "source": [
    "#Loading words \n",
    "vocab = np.loadtxt(\"nyt_vocab.dat\" , dtype='str')\n",
    "\n"
   ]
  },
  {
   "cell_type": "code",
   "execution_count": null,
   "metadata": {},
   "outputs": [],
   "source": [
    "print(vocab)"
   ]
  },
  {
   "cell_type": "code",
   "execution_count": null,
   "metadata": {},
   "outputs": [],
   "source": [
    "# Initializing W and H\n",
    "W = np.random.uniform(1,2,(3012,25))\n",
    "H = np.random.uniform(1,2,(25,8447))\n",
    "\n"
   ]
  },
  {
   "cell_type": "code",
   "execution_count": null,
   "metadata": {},
   "outputs": [],
   "source": [
    "# training model\n",
    "\n",
    "objective = np.zeros(100)\n",
    "matWH = np.dot(W, H)\n",
    "A = np.divide(X, (matWH) + 1e-16)"
   ]
  },
  {
   "cell_type": "code",
   "execution_count": null,
   "metadata": {},
   "outputs": [],
   "source": [
    "for i in range(0,100):\n",
    "    H = np.multiply(H, np.dot(W.T, A))/(np.sum(W, axis = 0)).reshape(25,1)\n",
    "    matWH = np.dot(W, H)\n",
    "    A = np.divide(X, (matWH) + 1e-16)\n",
    "    W = (W * np.dot(A, H.T))/(np.sum(H, axis = 1)).reshape(1,25)\n",
    "    matWH = np.dot(W, H)\n",
    "    A = np.divide(X, (matWH) + 1e-16)\n",
    "    objVal = np.sum((np.log(1/(matWH + 1e-16)) * X ) + matWH)\n",
    "    objective[i] = objVal"
   ]
  },
  {
   "cell_type": "code",
   "execution_count": null,
   "metadata": {},
   "outputs": [],
   "source": [
    "# Print plot of objective function\n",
    "mpl.style.use('seaborn')\n",
    "plt.plot(range(1,101), objective)\n",
    "plt.xlabel(\"Iterations t\")\n",
    "plt.ylabel(\"Objective Value\")\n",
    "plt.title(\"Objective Value Over Iterations t\")\n",
    "plt.savefig(\"figure2a.png\")"
   ]
  },
  {
   "cell_type": "code",
   "execution_count": null,
   "metadata": {},
   "outputs": [],
   "source": [
    "print(W)"
   ]
  },
  {
   "cell_type": "code",
   "execution_count": null,
   "metadata": {},
   "outputs": [],
   "source": [
    "# normalize and get words\n",
    "Wnorm = W /(np.sum(W, axis=0).reshape(1,-1))\n",
    "print(np.sum(Wnorm[:,0]))"
   ]
  },
  {
   "cell_type": "code",
   "execution_count": null,
   "metadata": {},
   "outputs": [],
   "source": [
    "windex = np.zeros((10,25),dtype=int)\n",
    "for i in range(0,25):\n",
    "    windex[:,i] = np.argsort(Wnorm[:,i][-10:][::-1])\n",
    "\n",
    "data = pd.DataFrame(index=range(1,11), columns=['Topic %d'%i for i in range(1,26)])\n",
    "for i in range(25):\n",
    "    for x in range(0,10):\n",
    "        data.iloc[:,i][x] = {vocab[windex[:,i]][x]: format(Wnorm[windex[:,i],i][x], '.4f')}\n",
    "            \n",
    "pd.set_option('display.max_columns', None)\n",
    "pd.set_option('display.max_rows', None)\n",
    "display(results)\n",
    "\n",
    "\n",
    "results.to_html('figure2b.html',index=False)\n"
   ]
  },
  {
   "cell_type": "code",
   "execution_count": null,
   "metadata": {},
   "outputs": [],
   "source": []
  }
 ],
 "metadata": {
  "kernelspec": {
   "display_name": "Python 3",
   "language": "python",
   "name": "python3"
  },
  "language_info": {
   "codemirror_mode": {
    "name": "ipython",
    "version": 3
   },
   "file_extension": ".py",
   "mimetype": "text/x-python",
   "name": "python",
   "nbconvert_exporter": "python",
   "pygments_lexer": "ipython3",
   "version": "3.6.4"
  }
 },
 "nbformat": 4,
 "nbformat_minor": 2
}
