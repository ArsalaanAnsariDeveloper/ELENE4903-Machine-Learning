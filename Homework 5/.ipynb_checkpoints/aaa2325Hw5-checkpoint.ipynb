{
 "cells": [
  {
   "cell_type": "code",
   "execution_count": null,
   "metadata": {},
   "outputs": [],
   "source": [
    "import numpy as np\n",
    "import matplotlib.pyplot as plt\n",
    "import pandas as pd\n",
    "from scipy.sparse.linalg import eigs\n"
   ]
  },
  {
   "cell_type": "markdown",
   "metadata": {},
   "source": [
    "1. Markov Chain"
   ]
  },
  {
   "cell_type": "code",
   "execution_count": null,
   "metadata": {},
   "outputs": [],
   "source": [
    "\n",
    "# Load team names\n",
    "teamNames = np.loadtxt(\"TeamNames.txt\" , dtype='str')\n",
    "print(teamNames[0])"
   ]
  },
  {
   "cell_type": "code",
   "execution_count": null,
   "metadata": {},
   "outputs": [],
   "source": [
    "# Initialize M matrix with zeros\n",
    "M = np.zeros((763,763))\n",
    "print(M)"
   ]
  },
  {
   "cell_type": "code",
   "execution_count": null,
   "metadata": {},
   "outputs": [],
   "source": [
    "# Initialize random Walk matrix \n",
    "\n",
    "gameData = np.genfromtxt('CFB2017_scores.csv', delimiter=\",\")"
   ]
  },
  {
   "cell_type": "code",
   "execution_count": null,
   "metadata": {},
   "outputs": [],
   "source": [
    "# Update M based on the data from file\n",
    "\n",
    "for row in gameData:\n",
    "    teamAin = int(row[0])\n",
    "    aPts = int(row[1])\n",
    "    teamBin = int(row[2])\n",
    "    bPts = int(row[3])\n",
    "    \n",
    "    i = teamAin - 1\n",
    "    j = teamBin - 1\n",
    "    \n",
    "    weight = aPts/(aPts + bPts)\n",
    "    win = int(aPts > bPts)\n",
    "    \n",
    "    M[i,i] += win + weight\n",
    "    M[j,j] += (1 - win) + (1 - weight)\n",
    "    M[j,i] += win + weight\n",
    "    M[i,j] +=  (1 - win) + (1 - weight)\n",
    "    \n",
    "\n",
    "    \n",
    "M =  M / (np.sum(M, axis = 1).reshape(-1,1))"
   ]
  },
  {
   "cell_type": "code",
   "execution_count": null,
   "metadata": {},
   "outputs": [],
   "source": [
    "print(np.sum(M[2]))"
   ]
  },
  {
   "cell_type": "code",
   "execution_count": null,
   "metadata": {},
   "outputs": [],
   "source": [
    "# eigenval calcs\n",
    "\n",
    "w_inf= eigs(M.T,1)[1].flatten()\n",
    "w_inf = w_inf/(np.sum(w_inf))\n"
   ]
  },
  {
   "cell_type": "code",
   "execution_count": null,
   "metadata": {},
   "outputs": [],
   "source": [
    "# update w vector\n",
    "w = np.repeat(1/763, 763)\n",
    "tRank = set([10, 100, 1000, 10000])\n",
    "tCol = []\n",
    "w_inf_t = np.zeros(10000)\n",
    "\n",
    "for t in range(1,10001):\n",
    "    w = np.dot(w,M)\n",
    "    w_inf_t[t-1] = np.sum(abs(w - w_inf)) \n",
    "    if(t in tRank):\n",
    "        \n",
    "        if(t in tRank):\n",
    "            wordsNum = np.argsort(w)[::-1][:25]\n",
    "            print(len(wordsNum))\n",
    "            tCol.append(teamNames[wordsNum])\n",
    "        "
   ]
  },
  {
   "cell_type": "code",
   "execution_count": null,
   "metadata": {},
   "outputs": [],
   "source": [
    "print(w_inf_t)"
   ]
  },
  {
   "cell_type": "code",
   "execution_count": null,
   "metadata": {},
   "outputs": [],
   "source": [
    "# Create ranking data frame \n",
    "tArray = tCol[0]\n",
    "print(tCol[1])\n",
    "\n",
    "for t in range(1, len(tCol)):\n",
    "    tArray = np.vstack((tArray, tCol[t]))\n",
    "tArray = tArray.T\n",
    "\n"
   ]
  },
  {
   "cell_type": "code",
   "execution_count": null,
   "metadata": {},
   "outputs": [],
   "source": [
    "# print rankings data frame\n",
    "rankingsDf = pd.DataFrame(tArray, columns=[\"t = 10\", \"t = 100\", \" t = 1000\", \"t = 10000\"])\n",
    "rankingsDf.index = np.arange(1, 26)\n",
    "rankingsDf.to_html('rankingsTable.html')\n",
    "print(rankingsDf)"
   ]
  },
  {
   "cell_type": "code",
   "execution_count": null,
   "metadata": {},
   "outputs": [],
   "source": [
    "import matplotlib as mpl\n",
    "mpl.style.use('seaborn')\n",
    "plt.figure()\n",
    "plt.plot(range(1,10001), w_inf_t)\n",
    "plt.xlabel(\"Iterations t\")\n",
    "plt.ylabel(\"|w_t - w_inf|\")\n",
    "plt.title(\"|w_t - w_inf| vs t\")\n",
    "plt.savefig('differential.png')\n"
   ]
  },
  {
   "cell_type": "markdown",
   "metadata": {},
   "source": [
    "Problem 2 NMF"
   ]
  },
  {
   "cell_type": "code",
   "execution_count": null,
   "metadata": {},
   "outputs": [],
   "source": [
    "#Initialize X\n",
    "\n",
    "X = np.zeros((3012, 8447))\n"
   ]
  },
  {
   "cell_type": "code",
   "execution_count": null,
   "metadata": {},
   "outputs": [],
   "source": [
    "\n",
    "raw_nyt_data = np.loadtxt('nyt_data.txt', dtype='str', delimiter=\"\\n\")\n",
    "\n"
   ]
  },
  {
   "cell_type": "code",
   "execution_count": null,
   "metadata": {},
   "outputs": [],
   "source": [
    "for i in range(0, len(raw_nyt_data)):\n",
    "    temp = raw_nyt_data[i].split(',')\n",
    "    for w in temp:\n",
    "        temp2  = w.split(':')\n",
    "        index = int(temp2[0])\n",
    "        count = int(temp2[1])\n",
    "        X[index-1, i] = count\n"
   ]
  },
  {
   "cell_type": "code",
   "execution_count": null,
   "metadata": {},
   "outputs": [],
   "source": [
    "print(X)"
   ]
  },
  {
   "cell_type": "code",
   "execution_count": null,
   "metadata": {},
   "outputs": [],
   "source": [
    "#Loading words \n",
    "vocab = np.loadtxt(\"nyt_vocab.dat\" , dtype='str')\n",
    "\n"
   ]
  },
  {
   "cell_type": "code",
   "execution_count": null,
   "metadata": {},
   "outputs": [],
   "source": [
    "print(vocab)"
   ]
  },
  {
   "cell_type": "code",
   "execution_count": null,
   "metadata": {},
   "outputs": [],
   "source": [
    "# Initializing W and H\n",
    "W = np.random.uniform(1,2,(3012,25))\n",
    "H = np.random.uniform(1,2,(25,8447))\n",
    "\n"
   ]
  },
  {
   "cell_type": "code",
   "execution_count": null,
   "metadata": {},
   "outputs": [],
   "source": [
    "# training model\n",
    "\n",
    "objective = np.zeros(100)\n",
    "matWH = np.dot(W, H)\n",
    "A = np.divide(X, (matWH) + 1e-16)"
   ]
  },
  {
   "cell_type": "code",
   "execution_count": null,
   "metadata": {},
   "outputs": [],
   "source": [
    "for i in range(0,100):\n",
    "    H = np.multiply(H, np.dot(W.T, A))/(np.sum(W, axis = 0)).reshape(25,1)\n",
    "    matWH = np.dot(W, H)\n",
    "    A = np.divide(X, (matWH) + 1e-16)\n",
    "    W = (W * np.dot(A, H.T))/(np.sum(H, axis = 1)).reshape(1,25)\n",
    "    matWH = np.dot(W, H)\n",
    "    A = np.divide(X, (matWH) + 1e-16)\n",
    "    objVal = np.sum((np.log(1/(matWH + 1e-16)) * X ) + matWH)\n",
    "    objective[i] = objVal"
   ]
  },
  {
   "cell_type": "code",
   "execution_count": null,
   "metadata": {},
   "outputs": [],
   "source": [
    "# Print plot of objective function\n",
    "mpl.style.use('seaborn')\n",
    "plt.plot(range(1,101), objective)\n",
    "plt.xlabel(\"Iterations t\")\n",
    "plt.ylabel(\"Objective Value\")\n",
    "plt.title(\"Objective Value Over Iterations t\")\n",
    "plt.savefig(\"figure2a.png\")"
   ]
  },
  {
   "cell_type": "code",
   "execution_count": null,
   "metadata": {},
   "outputs": [],
   "source": [
    "print(W)"
   ]
  },
  {
   "cell_type": "code",
   "execution_count": null,
   "metadata": {},
   "outputs": [],
   "source": [
    "# normalize and get words\n",
    "Wnorm = W /(np.sum(W, axis=0).reshape(1,-1))\n",
    "print(np.sum(Wnorm[:,0]))"
   ]
  },
  {
   "cell_type": "code",
   "execution_count": null,
   "metadata": {},
   "outputs": [],
   "source": [
    "windex = np.zeros((10,25),dtype=int)\n",
    "for i in range(0,25):\n",
    "    windex[:,i] = np.argsort(Wnorm[:,i][-10:][::-1])\n",
    "\n",
    "data = pd.DataFrame(index=range(1,11), columns=['Topic %d'%i for i in range(1,26)])\n",
    "for i in range(25):\n",
    "    for x in range(0,10):\n",
    "        data.iloc[:,i][x] = {vocab[windex[:,i]][x]: format(Wnorm[windex[:,i],i][x], '.4f')}\n",
    "            \n",
    "pd.set_option('display.max_columns', None)\n",
    "pd.set_option('display.max_rows', None)\n",
    "display(results)\n",
    "\n",
    "\n",
    "results.to_html('figure2b.html',index=False)\n"
   ]
  },
  {
   "cell_type": "code",
   "execution_count": null,
   "metadata": {},
   "outputs": [],
   "source": []
  }
 ],
 "metadata": {
  "kernelspec": {
   "display_name": "Python 3",
   "language": "python",
   "name": "python3"
  },
  "language_info": {
   "codemirror_mode": {
    "name": "ipython",
    "version": 3
   },
   "file_extension": ".py",
   "mimetype": "text/x-python",
   "name": "python",
   "nbconvert_exporter": "python",
   "pygments_lexer": "ipython3",
   "version": "3.6.4"
  }
 },
 "nbformat": 4,
 "nbformat_minor": 2
}
